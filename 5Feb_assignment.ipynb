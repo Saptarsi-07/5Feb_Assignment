{
 "cells": [
  {
   "cell_type": "code",
   "execution_count": null,
   "id": "2d668ac5-9eff-4252-a44f-96469316d376",
   "metadata": {},
   "outputs": [],
   "source": [
    "## Q1)\n",
    "# A class is basically a blueprint which has the functionality and  where as object on the otherhand is an instance of that class.\n",
    "# For example  MotorBike is a class with acceleration,braking as functionalility and weight,colour as attributes and Suzuki Hayabusa is\n",
    "# an object of class MotorBike."
   ]
  },
  {
   "cell_type": "code",
   "execution_count": 1,
   "id": "290b494b-53f6-4ba9-aedb-39f037101bcd",
   "metadata": {},
   "outputs": [],
   "source": [
    "## Q2)\n",
    "# The Four pillars of OOP is:\n",
    "# 1)Abstraction\n",
    "# 2)Encapsulation\n",
    "# 3)Inheritance\n",
    "# 4)Polymorphism"
   ]
  },
  {
   "cell_type": "code",
   "execution_count": 2,
   "id": "0cd08a2f-1f4a-4e6b-89e4-9756e2adc150",
   "metadata": {},
   "outputs": [],
   "source": [
    "## Q3)\n",
    "# __init__() is basically a constructor which is used to assign values to the class variables.\n",
    "# For example if Student is a class and Ram is an object of the class with class variables such as name,roll number,age.\n",
    "# then with help of __init__() we can take values as parameters and assign the respective values to Ram's name,roll and age respectively "
   ]
  },
  {
   "cell_type": "code",
   "execution_count": 3,
   "id": "e8fc6732-57a8-425f-b512-de5ce0d5f633",
   "metadata": {},
   "outputs": [],
   "source": [
    "## Q3)\n",
    "# self is not a reserved word but it is conventionally used to denote an instance of a class so as to acces the class functions\n",
    "# and variables"
   ]
  },
  {
   "cell_type": "code",
   "execution_count": 1,
   "id": "812de6dc-b9b3-448e-821d-dc6e84c14283",
   "metadata": {},
   "outputs": [
    {
     "name": "stdout",
     "output_type": "stream",
     "text": [
      "This is baseclass\n",
      "This is subclass\n"
     ]
    }
   ],
   "source": [
    "## Q4)\n",
    "# Inheritance is the feature by which a class can inherit the properties of other class.\n",
    "# 1)Single Inheritance: When a derived class inherits from a single parent class.\n",
    "# Eg:\n",
    "  \n",
    "class Base:\n",
    "    def func1(self):\n",
    "        print(\"This is baseclass\")\n",
    "\n",
    "class Sub(Base):\n",
    "    def func2(self):\n",
    "        print(\"This is subclass\")\n",
    "        \n",
    "obj=Sub()\n",
    "obj.func1()\n",
    "obj.func2()\n",
    "\n"
   ]
  },
  {
   "cell_type": "code",
   "execution_count": 3,
   "id": "799c5442-7315-498b-a840-1afe9e07e351",
   "metadata": {},
   "outputs": [
    {
     "name": "stdout",
     "output_type": "stream",
     "text": [
      "This is Baseclass-1\n",
      "This is Baseclass-2\n",
      "This is subclass\n"
     ]
    }
   ],
   "source": [
    "# 2) Multiple Inheritence: When a derived class inherits from more than 1 base classes\n",
    "# Eg:\n",
    "\n",
    "class Base1:\n",
    "    def func3(self):\n",
    "        print(\"This is Baseclass-1\")\n",
    "        \n",
    "class Base2:\n",
    "    def func4(self):\n",
    "        print(\"This is Baseclass-2\")\n",
    "\n",
    "class Sub(Base1,Base2):\n",
    "    def func5(self):\n",
    "        print(\"This is subclass\")\n",
    "        \n",
    "obj=Sub()\n",
    "obj.func3()\n",
    "obj.func4()\n",
    "obj.func5()"
   ]
  },
  {
   "cell_type": "code",
   "execution_count": 5,
   "id": "ed69fd1c-3f12-4e1a-b723-a18484d2010a",
   "metadata": {},
   "outputs": [
    {
     "name": "stdout",
     "output_type": "stream",
     "text": [
      "I am the Grandfather\n",
      "I am the Father\n",
      "I am the son\n"
     ]
    }
   ],
   "source": [
    "# 3) Multilevel Inheritence: When a derived class is further inherited by another class\n",
    "# Eg:\n",
    "\n",
    "class GrandFather:\n",
    "    def func6(self):\n",
    "        print(\"I am the Grandfather\")\n",
    "        \n",
    "class Father(GrandFather):\n",
    "    def func7(self):\n",
    "        print(\"I am the Father\")\n",
    "\n",
    "class Son(Father):\n",
    "    def func8(self):\n",
    "        print(\"I am the son\")\n",
    "\n",
    "obj=Son()\n",
    "obj.func6()\n",
    "obj.func7()\n",
    "obj.func8()"
   ]
  },
  {
   "cell_type": "code",
   "execution_count": 8,
   "id": "20a5e48f-4beb-4147-8938-f7cf315ad710",
   "metadata": {},
   "outputs": [
    {
     "name": "stdout",
     "output_type": "stream",
     "text": [
      "This is subclass-1\n",
      "This is the only base\n",
      "This is subclass-2\n",
      "This is the only base\n"
     ]
    }
   ],
   "source": [
    "# 4)Hierarchial Inheritence: When more than one subclass inherits from a single base class\n",
    "# Eg\n",
    "\n",
    "class Base:\n",
    "    def func9(self):\n",
    "        print(\"This is the only base\")\n",
    "        \n",
    "class Sub1(Base):\n",
    "    def func10(self):\n",
    "        print(\"This is subclass-1\")\n",
    "        \n",
    "class Sub2(Base):\n",
    "    def func11(self):\n",
    "        print(\"This is subclass-2\")\n",
    "        \n",
    "obj1=Sub1()\n",
    "obj2=Sub2()\n",
    "\n",
    "obj1.func10()\n",
    "obj1.func9()\n",
    "\n",
    "obj2.func11()\n",
    "obj2.func9()\n",
    "    "
   ]
  }
 ],
 "metadata": {
  "kernelspec": {
   "display_name": "Python 3 (ipykernel)",
   "language": "python",
   "name": "python3"
  },
  "language_info": {
   "codemirror_mode": {
    "name": "ipython",
    "version": 3
   },
   "file_extension": ".py",
   "mimetype": "text/x-python",
   "name": "python",
   "nbconvert_exporter": "python",
   "pygments_lexer": "ipython3",
   "version": "3.10.8"
  }
 },
 "nbformat": 4,
 "nbformat_minor": 5
}
